{
  "cells": [
    {
      "cell_type": "code",
      "execution_count": null,
      "metadata": {
        "colab": {
          "base_uri": "https://localhost:8080/"
        },
        "id": "-mkqIfwTQM7G",
        "outputId": "bcc85dac-e675-4b62-d430-b3a63952dd81"
      },
      "outputs": [],
      "source": [
        "!pip install ragas datasets"
      ]
    },
    {
      "cell_type": "code",
      "execution_count": null,
      "metadata": {
        "colab": {
          "base_uri": "https://localhost:8080/"
        },
        "id": "BYDnJnH7TF86",
        "outputId": "6423d442-4546-4d2b-cb51-895b2ce7d1b6"
      },
      "outputs": [],
      "source": [
        "!pip install pandas"
      ]
    },
    {
      "cell_type": "code",
      "execution_count": null,
      "metadata": {
        "id": "6YpfrklE_aLp"
      },
      "outputs": [],
      "source": [
        "import os\n",
        "os.environ['OPENAI_API_KEY'] = 'your_key_here'\n"
      ]
    },
    {
      "cell_type": "code",
      "execution_count": null,
      "metadata": {
        "colab": {
          "base_uri": "https://localhost:8080/"
        },
        "id": "K6GasT6aZA3d",
        "outputId": "6466eb55-df1e-4209-f576-8b1e408e4019"
      },
      "outputs": [],
      "source": [
        "!pip install nest_asyncio"
      ]
    },
    {
      "cell_type": "code",
      "execution_count": null,
      "metadata": {
        "id": "ZU72NGf4cF6Y"
      },
      "outputs": [],
      "source": [
        "data_samples = {\n",
        "    'question': [\"\"\"what are the genes associated with Melanoma?\"\"\"],\n",
        "    'answer': [\"\"\"The query made to the knowledge graph did not return any relevant answers regarding drugs related to the anatomy \"lacrimal apparatus\"\"\"],\n",
        "    'contexts': [[\"\"\"\n",
        "\"\"\"]],\n",
        "    'ground_truth': [\"\"\"Recombinant Human Adenovirus Type 5 Injection, Atezolizumab, Pembrolizumab, Lenvatinib, PV-10 (10% rose bengal disodium), Dacarbazine, Temozolomide, Talimogene laherparepvec, Aspirin, Toripalimab, Tremelimumab, Imatinib, Tislelizumab, Interferon alpha 2b, Pivanex, Camrelizumab for injection, Ipilimumab, Cabozantinib, Nivolumab, Cyclophosphamide, Fludarabine phosphate, CP-4055, Sorafenib (Nexavar), Fluvastatin, RTA 402 Dose1, RTA 402 Dose2, ABI-007, CC-5013, IMCgp100, Intratumoral injections of L19IL2, Imiquimod, 4SC-202 in combination with Pembrolizumab, Tebentafusp (IMCgp100), Durvalumab, Sonazoid, Dabrafenib + Trametinib, Coxsackievirus A21, Karenitecin, Valproic Acid, Chemotherapy, Imexon, DTIC, UV1, GM-CSF, Interleukin-2, Lovastatin, Lapatinib, Vincristine Sulfate Liposomes Injection, Cobimetinib + Vemurafenib combination treatment, BMS-936558 (MDX1106-04), Docetaxel 35mg/m2, Carboplatin AUC3, 131I-TM601, Chemotherapy: Temozolomide, Peginterferon alfa-2b, Recombinant interferon alfa-2b, PLX3397, Pembrolizumab Injection [Keytruda], Nivolumab Injection [Opdivo], Encorafenib, Binimetinib, Apatinib, Vemurafenib, Tinostamustine, Bevacizumab, Enalapril, Propranolol, Tilsotolimod, Saline (0.9% sodium chloride), Depsipeptide, Denileukin diftitox, IL-2, Acitretin, Decitabine, RM28, Autologous PBMCs, CP-675,206, ACY-241, Vitamin D, Arachides oleum raffinatum, Sorafenib (BAY 43-9006), ABI-007(Abraxane), Paclitaxel, RO5185426, Ultrasound contrast, DEDN6526A, Zelboraf, HSPPC-96 or Oncophage, Fotemustine, Definity, Drug cocktail, L19IL2 + L19TNF, GM-CSF s.c., AK104 + Axitinib, AK112 + Axitinib, 18F-PFPN, 18F-FDG, Avastin, Abraxane, 6MHP, PolyICLC, CDX-1140, NeoAg-mBRAF, [18F] CFA, Regorafenib\n",
        "\"\"\"]\n",
        "}"
      ]
    },
    {
      "cell_type": "code",
      "execution_count": null,
      "metadata": {
        "id": "ChzZQaLKd8Dp"
      },
      "outputs": [],
      "source": [
        "import nest_asyncio\n",
        "nest_asyncio.apply()\n",
        "\n",
        "from datasets import Dataset\n",
        "from ragas import evaluate\n",
        "from ragas.metrics import (\n",
        "    faithfulness,\n",
        "    answer_relevancy,\n",
        "    context_precision,\n",
        "    context_recall\n",
        ")"
      ]
    },
    {
      "cell_type": "code",
      "execution_count": null,
      "metadata": {
        "colab": {
          "base_uri": "https://localhost:8080/",
          "height": 1000,
          "referenced_widgets": [
            "d269f80e87ee423a8c93984df45d5b3a",
            "fafc30e369b94d899af9dc4d9e2028e1",
            "13f824e713b24053b0d6cec9759308ca",
            "8e117cdc563542f68638605f6dfb19dd",
            "a0664b07845747eea1e7ef1e440e9d11",
            "8cc9c60f41e244e282010102ce9d1d6c",
            "d405e72c569e4b09984cb2e730cf6a98",
            "f1751b815485434e9b11c68c54c826b2",
            "4885d8d0601d47d1a3c91eeb042b2c30",
            "2b4480d79fdc4dc88777cbb26de33005",
            "aec60d65517b4b3884badfb37e2ad910"
          ]
        },
        "id": "Mzm6PcwZeN6V",
        "outputId": "154db8de-dda6-43c5-8355-8c557c80d605"
      },
      "outputs": [],
      "source": [
        "dataset = Dataset.from_dict(data_samples)\n",
        "\n",
        "# List of metrics to evaluate\n",
        "metrics = [\n",
        "    faithfulness,\n",
        "    answer_relevancy,\n",
        "    context_precision,\n",
        "    context_recall\n",
        "]\n",
        "\n",
        "# Evaluating the dataset using the specified metrics with exception handling\n",
        "try:\n",
        "    score = evaluate(dataset, metrics=metrics, raise_exceptions=True)\n",
        "    # Converting the score to a pandas dataframe and printing\n",
        "    score_df = score.to_pandas()\n",
        "    print(score_df)\n",
        "except Exception as e:\n",
        "    print(f\"An error occurred during evaluation: {e}\")"
      ]
    }
  ],
  "metadata": {
    "colab": {
      "provenance": []
    },
    "kernelspec": {
      "display_name": "Python 3",
      "name": "python3"
    },
    "language_info": {
      "name": "python"
    },
    "widgets": {
      "application/vnd.jupyter.widget-state+json": {
        "13f824e713b24053b0d6cec9759308ca": {
          "model_module": "@jupyter-widgets/controls",
          "model_module_version": "1.5.0",
          "model_name": "FloatProgressModel",
          "state": {
            "_dom_classes": [],
            "_model_module": "@jupyter-widgets/controls",
            "_model_module_version": "1.5.0",
            "_model_name": "FloatProgressModel",
            "_view_count": null,
            "_view_module": "@jupyter-widgets/controls",
            "_view_module_version": "1.5.0",
            "_view_name": "ProgressView",
            "bar_style": "danger",
            "description": "",
            "description_tooltip": null,
            "layout": "IPY_MODEL_f1751b815485434e9b11c68c54c826b2",
            "max": 4,
            "min": 0,
            "orientation": "horizontal",
            "style": "IPY_MODEL_4885d8d0601d47d1a3c91eeb042b2c30",
            "value": 1
          }
        },
        "2b4480d79fdc4dc88777cbb26de33005": {
          "model_module": "@jupyter-widgets/base",
          "model_module_version": "1.2.0",
          "model_name": "LayoutModel",
          "state": {
            "_model_module": "@jupyter-widgets/base",
            "_model_module_version": "1.2.0",
            "_model_name": "LayoutModel",
            "_view_count": null,
            "_view_module": "@jupyter-widgets/base",
            "_view_module_version": "1.2.0",
            "_view_name": "LayoutView",
            "align_content": null,
            "align_items": null,
            "align_self": null,
            "border": null,
            "bottom": null,
            "display": null,
            "flex": null,
            "flex_flow": null,
            "grid_area": null,
            "grid_auto_columns": null,
            "grid_auto_flow": null,
            "grid_auto_rows": null,
            "grid_column": null,
            "grid_gap": null,
            "grid_row": null,
            "grid_template_areas": null,
            "grid_template_columns": null,
            "grid_template_rows": null,
            "height": null,
            "justify_content": null,
            "justify_items": null,
            "left": null,
            "margin": null,
            "max_height": null,
            "max_width": null,
            "min_height": null,
            "min_width": null,
            "object_fit": null,
            "object_position": null,
            "order": null,
            "overflow": null,
            "overflow_x": null,
            "overflow_y": null,
            "padding": null,
            "right": null,
            "top": null,
            "visibility": null,
            "width": null
          }
        },
        "4885d8d0601d47d1a3c91eeb042b2c30": {
          "model_module": "@jupyter-widgets/controls",
          "model_module_version": "1.5.0",
          "model_name": "ProgressStyleModel",
          "state": {
            "_model_module": "@jupyter-widgets/controls",
            "_model_module_version": "1.5.0",
            "_model_name": "ProgressStyleModel",
            "_view_count": null,
            "_view_module": "@jupyter-widgets/base",
            "_view_module_version": "1.2.0",
            "_view_name": "StyleView",
            "bar_color": null,
            "description_width": ""
          }
        },
        "8cc9c60f41e244e282010102ce9d1d6c": {
          "model_module": "@jupyter-widgets/base",
          "model_module_version": "1.2.0",
          "model_name": "LayoutModel",
          "state": {
            "_model_module": "@jupyter-widgets/base",
            "_model_module_version": "1.2.0",
            "_model_name": "LayoutModel",
            "_view_count": null,
            "_view_module": "@jupyter-widgets/base",
            "_view_module_version": "1.2.0",
            "_view_name": "LayoutView",
            "align_content": null,
            "align_items": null,
            "align_self": null,
            "border": null,
            "bottom": null,
            "display": null,
            "flex": null,
            "flex_flow": null,
            "grid_area": null,
            "grid_auto_columns": null,
            "grid_auto_flow": null,
            "grid_auto_rows": null,
            "grid_column": null,
            "grid_gap": null,
            "grid_row": null,
            "grid_template_areas": null,
            "grid_template_columns": null,
            "grid_template_rows": null,
            "height": null,
            "justify_content": null,
            "justify_items": null,
            "left": null,
            "margin": null,
            "max_height": null,
            "max_width": null,
            "min_height": null,
            "min_width": null,
            "object_fit": null,
            "object_position": null,
            "order": null,
            "overflow": null,
            "overflow_x": null,
            "overflow_y": null,
            "padding": null,
            "right": null,
            "top": null,
            "visibility": null,
            "width": null
          }
        },
        "8e117cdc563542f68638605f6dfb19dd": {
          "model_module": "@jupyter-widgets/controls",
          "model_module_version": "1.5.0",
          "model_name": "HTMLModel",
          "state": {
            "_dom_classes": [],
            "_model_module": "@jupyter-widgets/controls",
            "_model_module_version": "1.5.0",
            "_model_name": "HTMLModel",
            "_view_count": null,
            "_view_module": "@jupyter-widgets/controls",
            "_view_module_version": "1.5.0",
            "_view_name": "HTMLView",
            "description": "",
            "description_tooltip": null,
            "layout": "IPY_MODEL_2b4480d79fdc4dc88777cbb26de33005",
            "placeholder": "​",
            "style": "IPY_MODEL_aec60d65517b4b3884badfb37e2ad910",
            "value": " 1/4 [00:25&lt;00:26,  8.81s/it]"
          }
        },
        "a0664b07845747eea1e7ef1e440e9d11": {
          "model_module": "@jupyter-widgets/base",
          "model_module_version": "1.2.0",
          "model_name": "LayoutModel",
          "state": {
            "_model_module": "@jupyter-widgets/base",
            "_model_module_version": "1.2.0",
            "_model_name": "LayoutModel",
            "_view_count": null,
            "_view_module": "@jupyter-widgets/base",
            "_view_module_version": "1.2.0",
            "_view_name": "LayoutView",
            "align_content": null,
            "align_items": null,
            "align_self": null,
            "border": null,
            "bottom": null,
            "display": null,
            "flex": null,
            "flex_flow": null,
            "grid_area": null,
            "grid_auto_columns": null,
            "grid_auto_flow": null,
            "grid_auto_rows": null,
            "grid_column": null,
            "grid_gap": null,
            "grid_row": null,
            "grid_template_areas": null,
            "grid_template_columns": null,
            "grid_template_rows": null,
            "height": null,
            "justify_content": null,
            "justify_items": null,
            "left": null,
            "margin": null,
            "max_height": null,
            "max_width": null,
            "min_height": null,
            "min_width": null,
            "object_fit": null,
            "object_position": null,
            "order": null,
            "overflow": null,
            "overflow_x": null,
            "overflow_y": null,
            "padding": null,
            "right": null,
            "top": null,
            "visibility": null,
            "width": null
          }
        },
        "aec60d65517b4b3884badfb37e2ad910": {
          "model_module": "@jupyter-widgets/controls",
          "model_module_version": "1.5.0",
          "model_name": "DescriptionStyleModel",
          "state": {
            "_model_module": "@jupyter-widgets/controls",
            "_model_module_version": "1.5.0",
            "_model_name": "DescriptionStyleModel",
            "_view_count": null,
            "_view_module": "@jupyter-widgets/base",
            "_view_module_version": "1.2.0",
            "_view_name": "StyleView",
            "description_width": ""
          }
        },
        "d269f80e87ee423a8c93984df45d5b3a": {
          "model_module": "@jupyter-widgets/controls",
          "model_module_version": "1.5.0",
          "model_name": "HBoxModel",
          "state": {
            "_dom_classes": [],
            "_model_module": "@jupyter-widgets/controls",
            "_model_module_version": "1.5.0",
            "_model_name": "HBoxModel",
            "_view_count": null,
            "_view_module": "@jupyter-widgets/controls",
            "_view_module_version": "1.5.0",
            "_view_name": "HBoxView",
            "box_style": "",
            "children": [
              "IPY_MODEL_fafc30e369b94d899af9dc4d9e2028e1",
              "IPY_MODEL_13f824e713b24053b0d6cec9759308ca",
              "IPY_MODEL_8e117cdc563542f68638605f6dfb19dd"
            ],
            "layout": "IPY_MODEL_a0664b07845747eea1e7ef1e440e9d11"
          }
        },
        "d405e72c569e4b09984cb2e730cf6a98": {
          "model_module": "@jupyter-widgets/controls",
          "model_module_version": "1.5.0",
          "model_name": "DescriptionStyleModel",
          "state": {
            "_model_module": "@jupyter-widgets/controls",
            "_model_module_version": "1.5.0",
            "_model_name": "DescriptionStyleModel",
            "_view_count": null,
            "_view_module": "@jupyter-widgets/base",
            "_view_module_version": "1.2.0",
            "_view_name": "StyleView",
            "description_width": ""
          }
        },
        "f1751b815485434e9b11c68c54c826b2": {
          "model_module": "@jupyter-widgets/base",
          "model_module_version": "1.2.0",
          "model_name": "LayoutModel",
          "state": {
            "_model_module": "@jupyter-widgets/base",
            "_model_module_version": "1.2.0",
            "_model_name": "LayoutModel",
            "_view_count": null,
            "_view_module": "@jupyter-widgets/base",
            "_view_module_version": "1.2.0",
            "_view_name": "LayoutView",
            "align_content": null,
            "align_items": null,
            "align_self": null,
            "border": null,
            "bottom": null,
            "display": null,
            "flex": null,
            "flex_flow": null,
            "grid_area": null,
            "grid_auto_columns": null,
            "grid_auto_flow": null,
            "grid_auto_rows": null,
            "grid_column": null,
            "grid_gap": null,
            "grid_row": null,
            "grid_template_areas": null,
            "grid_template_columns": null,
            "grid_template_rows": null,
            "height": null,
            "justify_content": null,
            "justify_items": null,
            "left": null,
            "margin": null,
            "max_height": null,
            "max_width": null,
            "min_height": null,
            "min_width": null,
            "object_fit": null,
            "object_position": null,
            "order": null,
            "overflow": null,
            "overflow_x": null,
            "overflow_y": null,
            "padding": null,
            "right": null,
            "top": null,
            "visibility": null,
            "width": null
          }
        },
        "fafc30e369b94d899af9dc4d9e2028e1": {
          "model_module": "@jupyter-widgets/controls",
          "model_module_version": "1.5.0",
          "model_name": "HTMLModel",
          "state": {
            "_dom_classes": [],
            "_model_module": "@jupyter-widgets/controls",
            "_model_module_version": "1.5.0",
            "_model_name": "HTMLModel",
            "_view_count": null,
            "_view_module": "@jupyter-widgets/controls",
            "_view_module_version": "1.5.0",
            "_view_name": "HTMLView",
            "description": "",
            "description_tooltip": null,
            "layout": "IPY_MODEL_8cc9c60f41e244e282010102ce9d1d6c",
            "placeholder": "​",
            "style": "IPY_MODEL_d405e72c569e4b09984cb2e730cf6a98",
            "value": "Evaluating:  25%"
          }
        }
      }
    }
  },
  "nbformat": 4,
  "nbformat_minor": 0
}
